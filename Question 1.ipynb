{
  "nbformat": 4,
  "nbformat_minor": 0,
  "metadata": {
    "colab": {
      "provenance": [],
      "gpuType": "T4"
    },
    "kernelspec": {
      "name": "python3",
      "display_name": "Python 3"
    },
    "language_info": {
      "name": "python"
    },
    "accelerator": "GPU"
  },
  "cells": [
    {
      "cell_type": "code",
      "execution_count": 1,
      "metadata": {
        "id": "cnDNKTBQ_K4q"
      },
      "outputs": [],
      "source": [
        "import torch\n",
        "import torch.nn as nn\n",
        "import torch.optim as optim\n",
        "import torchvision\n",
        "import torchvision.models as models\n",
        "from torch.utils.data import DataLoader, Dataset,TensorDataset\n",
        "import matplotlib.pyplot as plt\n",
        "import numpy as np\n",
        "import torch.nn.functional as F\n",
        "import pandas as pd\n",
        "from collections import Counter\n",
        "import sklearn\n",
        "from sklearn.model_selection import train_test_split\n",
        "import torch.utils.data as data\n",
        "from sklearn.model_selection import KFold\n"
      ]
    },
    {
      "cell_type": "code",
      "source": [
        "device = torch.device(\"cuda\" if torch.cuda.is_available() else \"cpu\")\n",
        "print(device)"
      ],
      "metadata": {
        "colab": {
          "base_uri": "https://localhost:8080/"
        },
        "id": "e7DCz5jN_jot",
        "outputId": "69417c69-d01f-4afa-92ca-06d293a9a10c"
      },
      "execution_count": 2,
      "outputs": [
        {
          "output_type": "stream",
          "name": "stdout",
          "text": [
            "cuda\n"
          ]
        }
      ]
    },
    {
      "cell_type": "code",
      "source": [
        "data = pd.read_csv('BBBP.csv')\n"
      ],
      "metadata": {
        "id": "wWzzZVDp_ojM"
      },
      "execution_count": 3,
      "outputs": []
    },
    {
      "cell_type": "code",
      "source": [
        "data"
      ],
      "metadata": {
        "colab": {
          "base_uri": "https://localhost:8080/",
          "height": 513
        },
        "id": "iNWaNOVOAgbg",
        "outputId": "efba8588-73ad-496a-d42b-51fc374f3c6e"
      },
      "execution_count": 4,
      "outputs": [
        {
          "output_type": "execute_result",
          "data": {
            "text/plain": [
              "       num                               name  p_np  \\\n",
              "0        1                         Propanolol     1   \n",
              "1        2               Terbutylchlorambucil     1   \n",
              "2        3                              40730     1   \n",
              "3        4                                 24     1   \n",
              "4        5                        cloxacillin     1   \n",
              "...    ...                                ...   ...   \n",
              "2045  2049                         licostinel     1   \n",
              "2046  2050  ademetionine(adenosyl-methionine)     1   \n",
              "2047  2051                           mesocarb     1   \n",
              "2048  2052                         tofisoline     1   \n",
              "2049  2053                      azidamfenicol     1   \n",
              "\n",
              "                                                 smiles  \n",
              "0                      [Cl].CC(C)NCC(O)COc1cccc2ccccc12  \n",
              "1              C(=O)(OC(C)(C)C)CCCc1ccc(cc1)N(CCCl)CCCl  \n",
              "2     c12c3c(N4CCN(C)CC4)c(F)cc1c(c(C(O)=O)cn2C(C)CO...  \n",
              "3                      C1CCN(CC1)Cc1cccc(c1)OCCCNC(=O)C  \n",
              "4     Cc1onc(c2ccccc2Cl)c1C(=O)N[C@H]3[C@H]4SC(C)(C)...  \n",
              "...                                                 ...  \n",
              "2045    C1=C(Cl)C(=C(C2=C1NC(=O)C(N2)=O)[N+](=O)[O-])Cl  \n",
              "2046  [C@H]3([N]2C1=C(C(=NC=N1)N)N=C2)[C@@H]([C@@H](...  \n",
              "2047  [O+]1=N[N](C=C1[N-]C(NC2=CC=CC=C2)=O)C(CC3=CC=...  \n",
              "2048  C1=C(OC)C(=CC2=C1C(=[N+](C(=C2CC)C)[NH-])C3=CC...  \n",
              "2049  [N+](=NCC(=O)N[C@@H]([C@H](O)C1=CC=C([N+]([O-]...  \n",
              "\n",
              "[2050 rows x 4 columns]"
            ],
            "text/html": [
              "\n",
              "  <div id=\"df-ba0f3728-9a9e-4423-bd60-4c51dd5d519c\" class=\"colab-df-container\">\n",
              "    <div>\n",
              "<style scoped>\n",
              "    .dataframe tbody tr th:only-of-type {\n",
              "        vertical-align: middle;\n",
              "    }\n",
              "\n",
              "    .dataframe tbody tr th {\n",
              "        vertical-align: top;\n",
              "    }\n",
              "\n",
              "    .dataframe thead th {\n",
              "        text-align: right;\n",
              "    }\n",
              "</style>\n",
              "<table border=\"1\" class=\"dataframe\">\n",
              "  <thead>\n",
              "    <tr style=\"text-align: right;\">\n",
              "      <th></th>\n",
              "      <th>num</th>\n",
              "      <th>name</th>\n",
              "      <th>p_np</th>\n",
              "      <th>smiles</th>\n",
              "    </tr>\n",
              "  </thead>\n",
              "  <tbody>\n",
              "    <tr>\n",
              "      <th>0</th>\n",
              "      <td>1</td>\n",
              "      <td>Propanolol</td>\n",
              "      <td>1</td>\n",
              "      <td>[Cl].CC(C)NCC(O)COc1cccc2ccccc12</td>\n",
              "    </tr>\n",
              "    <tr>\n",
              "      <th>1</th>\n",
              "      <td>2</td>\n",
              "      <td>Terbutylchlorambucil</td>\n",
              "      <td>1</td>\n",
              "      <td>C(=O)(OC(C)(C)C)CCCc1ccc(cc1)N(CCCl)CCCl</td>\n",
              "    </tr>\n",
              "    <tr>\n",
              "      <th>2</th>\n",
              "      <td>3</td>\n",
              "      <td>40730</td>\n",
              "      <td>1</td>\n",
              "      <td>c12c3c(N4CCN(C)CC4)c(F)cc1c(c(C(O)=O)cn2C(C)CO...</td>\n",
              "    </tr>\n",
              "    <tr>\n",
              "      <th>3</th>\n",
              "      <td>4</td>\n",
              "      <td>24</td>\n",
              "      <td>1</td>\n",
              "      <td>C1CCN(CC1)Cc1cccc(c1)OCCCNC(=O)C</td>\n",
              "    </tr>\n",
              "    <tr>\n",
              "      <th>4</th>\n",
              "      <td>5</td>\n",
              "      <td>cloxacillin</td>\n",
              "      <td>1</td>\n",
              "      <td>Cc1onc(c2ccccc2Cl)c1C(=O)N[C@H]3[C@H]4SC(C)(C)...</td>\n",
              "    </tr>\n",
              "    <tr>\n",
              "      <th>...</th>\n",
              "      <td>...</td>\n",
              "      <td>...</td>\n",
              "      <td>...</td>\n",
              "      <td>...</td>\n",
              "    </tr>\n",
              "    <tr>\n",
              "      <th>2045</th>\n",
              "      <td>2049</td>\n",
              "      <td>licostinel</td>\n",
              "      <td>1</td>\n",
              "      <td>C1=C(Cl)C(=C(C2=C1NC(=O)C(N2)=O)[N+](=O)[O-])Cl</td>\n",
              "    </tr>\n",
              "    <tr>\n",
              "      <th>2046</th>\n",
              "      <td>2050</td>\n",
              "      <td>ademetionine(adenosyl-methionine)</td>\n",
              "      <td>1</td>\n",
              "      <td>[C@H]3([N]2C1=C(C(=NC=N1)N)N=C2)[C@@H]([C@@H](...</td>\n",
              "    </tr>\n",
              "    <tr>\n",
              "      <th>2047</th>\n",
              "      <td>2051</td>\n",
              "      <td>mesocarb</td>\n",
              "      <td>1</td>\n",
              "      <td>[O+]1=N[N](C=C1[N-]C(NC2=CC=CC=C2)=O)C(CC3=CC=...</td>\n",
              "    </tr>\n",
              "    <tr>\n",
              "      <th>2048</th>\n",
              "      <td>2052</td>\n",
              "      <td>tofisoline</td>\n",
              "      <td>1</td>\n",
              "      <td>C1=C(OC)C(=CC2=C1C(=[N+](C(=C2CC)C)[NH-])C3=CC...</td>\n",
              "    </tr>\n",
              "    <tr>\n",
              "      <th>2049</th>\n",
              "      <td>2053</td>\n",
              "      <td>azidamfenicol</td>\n",
              "      <td>1</td>\n",
              "      <td>[N+](=NCC(=O)N[C@@H]([C@H](O)C1=CC=C([N+]([O-]...</td>\n",
              "    </tr>\n",
              "  </tbody>\n",
              "</table>\n",
              "<p>2050 rows × 4 columns</p>\n",
              "</div>\n",
              "    <div class=\"colab-df-buttons\">\n",
              "\n",
              "  <div class=\"colab-df-container\">\n",
              "    <button class=\"colab-df-convert\" onclick=\"convertToInteractive('df-ba0f3728-9a9e-4423-bd60-4c51dd5d519c')\"\n",
              "            title=\"Convert this dataframe to an interactive table.\"\n",
              "            style=\"display:none;\">\n",
              "\n",
              "  <svg xmlns=\"http://www.w3.org/2000/svg\" height=\"24px\" viewBox=\"0 -960 960 960\">\n",
              "    <path d=\"M120-120v-720h720v720H120Zm60-500h600v-160H180v160Zm220 220h160v-160H400v160Zm0 220h160v-160H400v160ZM180-400h160v-160H180v160Zm440 0h160v-160H620v160ZM180-180h160v-160H180v160Zm440 0h160v-160H620v160Z\"/>\n",
              "  </svg>\n",
              "    </button>\n",
              "\n",
              "  <style>\n",
              "    .colab-df-container {\n",
              "      display:flex;\n",
              "      gap: 12px;\n",
              "    }\n",
              "\n",
              "    .colab-df-convert {\n",
              "      background-color: #E8F0FE;\n",
              "      border: none;\n",
              "      border-radius: 50%;\n",
              "      cursor: pointer;\n",
              "      display: none;\n",
              "      fill: #1967D2;\n",
              "      height: 32px;\n",
              "      padding: 0 0 0 0;\n",
              "      width: 32px;\n",
              "    }\n",
              "\n",
              "    .colab-df-convert:hover {\n",
              "      background-color: #E2EBFA;\n",
              "      box-shadow: 0px 1px 2px rgba(60, 64, 67, 0.3), 0px 1px 3px 1px rgba(60, 64, 67, 0.15);\n",
              "      fill: #174EA6;\n",
              "    }\n",
              "\n",
              "    .colab-df-buttons div {\n",
              "      margin-bottom: 4px;\n",
              "    }\n",
              "\n",
              "    [theme=dark] .colab-df-convert {\n",
              "      background-color: #3B4455;\n",
              "      fill: #D2E3FC;\n",
              "    }\n",
              "\n",
              "    [theme=dark] .colab-df-convert:hover {\n",
              "      background-color: #434B5C;\n",
              "      box-shadow: 0px 1px 3px 1px rgba(0, 0, 0, 0.15);\n",
              "      filter: drop-shadow(0px 1px 2px rgba(0, 0, 0, 0.3));\n",
              "      fill: #FFFFFF;\n",
              "    }\n",
              "  </style>\n",
              "\n",
              "    <script>\n",
              "      const buttonEl =\n",
              "        document.querySelector('#df-ba0f3728-9a9e-4423-bd60-4c51dd5d519c button.colab-df-convert');\n",
              "      buttonEl.style.display =\n",
              "        google.colab.kernel.accessAllowed ? 'block' : 'none';\n",
              "\n",
              "      async function convertToInteractive(key) {\n",
              "        const element = document.querySelector('#df-ba0f3728-9a9e-4423-bd60-4c51dd5d519c');\n",
              "        const dataTable =\n",
              "          await google.colab.kernel.invokeFunction('convertToInteractive',\n",
              "                                                    [key], {});\n",
              "        if (!dataTable) return;\n",
              "\n",
              "        const docLinkHtml = 'Like what you see? Visit the ' +\n",
              "          '<a target=\"_blank\" href=https://colab.research.google.com/notebooks/data_table.ipynb>data table notebook</a>'\n",
              "          + ' to learn more about interactive tables.';\n",
              "        element.innerHTML = '';\n",
              "        dataTable['output_type'] = 'display_data';\n",
              "        await google.colab.output.renderOutput(dataTable, element);\n",
              "        const docLink = document.createElement('div');\n",
              "        docLink.innerHTML = docLinkHtml;\n",
              "        element.appendChild(docLink);\n",
              "      }\n",
              "    </script>\n",
              "  </div>\n",
              "\n",
              "\n",
              "<div id=\"df-fe55f570-2fc1-433e-a880-7c512e190428\">\n",
              "  <button class=\"colab-df-quickchart\" onclick=\"quickchart('df-fe55f570-2fc1-433e-a880-7c512e190428')\"\n",
              "            title=\"Suggest charts\"\n",
              "            style=\"display:none;\">\n",
              "\n",
              "<svg xmlns=\"http://www.w3.org/2000/svg\" height=\"24px\"viewBox=\"0 0 24 24\"\n",
              "     width=\"24px\">\n",
              "    <g>\n",
              "        <path d=\"M19 3H5c-1.1 0-2 .9-2 2v14c0 1.1.9 2 2 2h14c1.1 0 2-.9 2-2V5c0-1.1-.9-2-2-2zM9 17H7v-7h2v7zm4 0h-2V7h2v10zm4 0h-2v-4h2v4z\"/>\n",
              "    </g>\n",
              "</svg>\n",
              "  </button>\n",
              "\n",
              "<style>\n",
              "  .colab-df-quickchart {\n",
              "      --bg-color: #E8F0FE;\n",
              "      --fill-color: #1967D2;\n",
              "      --hover-bg-color: #E2EBFA;\n",
              "      --hover-fill-color: #174EA6;\n",
              "      --disabled-fill-color: #AAA;\n",
              "      --disabled-bg-color: #DDD;\n",
              "  }\n",
              "\n",
              "  [theme=dark] .colab-df-quickchart {\n",
              "      --bg-color: #3B4455;\n",
              "      --fill-color: #D2E3FC;\n",
              "      --hover-bg-color: #434B5C;\n",
              "      --hover-fill-color: #FFFFFF;\n",
              "      --disabled-bg-color: #3B4455;\n",
              "      --disabled-fill-color: #666;\n",
              "  }\n",
              "\n",
              "  .colab-df-quickchart {\n",
              "    background-color: var(--bg-color);\n",
              "    border: none;\n",
              "    border-radius: 50%;\n",
              "    cursor: pointer;\n",
              "    display: none;\n",
              "    fill: var(--fill-color);\n",
              "    height: 32px;\n",
              "    padding: 0;\n",
              "    width: 32px;\n",
              "  }\n",
              "\n",
              "  .colab-df-quickchart:hover {\n",
              "    background-color: var(--hover-bg-color);\n",
              "    box-shadow: 0 1px 2px rgba(60, 64, 67, 0.3), 0 1px 3px 1px rgba(60, 64, 67, 0.15);\n",
              "    fill: var(--button-hover-fill-color);\n",
              "  }\n",
              "\n",
              "  .colab-df-quickchart-complete:disabled,\n",
              "  .colab-df-quickchart-complete:disabled:hover {\n",
              "    background-color: var(--disabled-bg-color);\n",
              "    fill: var(--disabled-fill-color);\n",
              "    box-shadow: none;\n",
              "  }\n",
              "\n",
              "  .colab-df-spinner {\n",
              "    border: 2px solid var(--fill-color);\n",
              "    border-color: transparent;\n",
              "    border-bottom-color: var(--fill-color);\n",
              "    animation:\n",
              "      spin 1s steps(1) infinite;\n",
              "  }\n",
              "\n",
              "  @keyframes spin {\n",
              "    0% {\n",
              "      border-color: transparent;\n",
              "      border-bottom-color: var(--fill-color);\n",
              "      border-left-color: var(--fill-color);\n",
              "    }\n",
              "    20% {\n",
              "      border-color: transparent;\n",
              "      border-left-color: var(--fill-color);\n",
              "      border-top-color: var(--fill-color);\n",
              "    }\n",
              "    30% {\n",
              "      border-color: transparent;\n",
              "      border-left-color: var(--fill-color);\n",
              "      border-top-color: var(--fill-color);\n",
              "      border-right-color: var(--fill-color);\n",
              "    }\n",
              "    40% {\n",
              "      border-color: transparent;\n",
              "      border-right-color: var(--fill-color);\n",
              "      border-top-color: var(--fill-color);\n",
              "    }\n",
              "    60% {\n",
              "      border-color: transparent;\n",
              "      border-right-color: var(--fill-color);\n",
              "    }\n",
              "    80% {\n",
              "      border-color: transparent;\n",
              "      border-right-color: var(--fill-color);\n",
              "      border-bottom-color: var(--fill-color);\n",
              "    }\n",
              "    90% {\n",
              "      border-color: transparent;\n",
              "      border-bottom-color: var(--fill-color);\n",
              "    }\n",
              "  }\n",
              "</style>\n",
              "\n",
              "  <script>\n",
              "    async function quickchart(key) {\n",
              "      const quickchartButtonEl =\n",
              "        document.querySelector('#' + key + ' button');\n",
              "      quickchartButtonEl.disabled = true;  // To prevent multiple clicks.\n",
              "      quickchartButtonEl.classList.add('colab-df-spinner');\n",
              "      try {\n",
              "        const charts = await google.colab.kernel.invokeFunction(\n",
              "            'suggestCharts', [key], {});\n",
              "      } catch (error) {\n",
              "        console.error('Error during call to suggestCharts:', error);\n",
              "      }\n",
              "      quickchartButtonEl.classList.remove('colab-df-spinner');\n",
              "      quickchartButtonEl.classList.add('colab-df-quickchart-complete');\n",
              "    }\n",
              "    (() => {\n",
              "      let quickchartButtonEl =\n",
              "        document.querySelector('#df-fe55f570-2fc1-433e-a880-7c512e190428 button');\n",
              "      quickchartButtonEl.style.display =\n",
              "        google.colab.kernel.accessAllowed ? 'block' : 'none';\n",
              "    })();\n",
              "  </script>\n",
              "</div>\n",
              "    </div>\n",
              "  </div>\n"
            ]
          },
          "metadata": {},
          "execution_count": 4
        }
      ]
    },
    {
      "cell_type": "code",
      "source": [
        "print((data.iloc[:, 3][2049]))"
      ],
      "metadata": {
        "colab": {
          "base_uri": "https://localhost:8080/"
        },
        "id": "g9J8sMUsAhF_",
        "outputId": "26c04984-9c0a-4a27-93ec-0b1a616dd639"
      },
      "execution_count": 5,
      "outputs": [
        {
          "output_type": "stream",
          "name": "stdout",
          "text": [
            "[N+](=NCC(=O)N[C@@H]([C@H](O)C1=CC=C([N+]([O-])=O)C=C1)CO)=[N-]\n"
          ]
        }
      ]
    },
    {
      "cell_type": "code",
      "source": [
        "length_char = []\n",
        "for i in range(2050):\n",
        "    length_char.append(len(data.iloc[:,3][i]))\n"
      ],
      "metadata": {
        "id": "TAMAZY--F61o"
      },
      "execution_count": 6,
      "outputs": []
    },
    {
      "cell_type": "code",
      "source": [
        "unique_elements = len(set(length_char))\n",
        "max_length = np.max(length_char)\n",
        "min_length = np.min(length_char)\n",
        "print(max_length)\n",
        "print(min_length)\n",
        "counter = Counter(length_char)\n",
        "most_common_value = counter.most_common(1)[0][0]\n",
        "print(most_common_value)"
      ],
      "metadata": {
        "colab": {
          "base_uri": "https://localhost:8080/"
        },
        "id": "T8-XAXaXjSPy",
        "outputId": "73087d3d-afb5-4bd6-8110-2c1c1f4c592a"
      },
      "execution_count": 7,
      "outputs": [
        {
          "output_type": "stream",
          "name": "stdout",
          "text": [
            "400\n",
            "3\n",
            "44\n"
          ]
        }
      ]
    },
    {
      "cell_type": "code",
      "source": [
        "plt.hist(length_char, unique_elements)\n",
        "plt.xlabel('Element Values')\n",
        "plt.ylabel('Number of Occurrences')\n",
        "plt.title('Histogram of Element Values')\n",
        "plt.show()"
      ],
      "metadata": {
        "colab": {
          "base_uri": "https://localhost:8080/",
          "height": 472
        },
        "id": "E01Jp8IOji8o",
        "outputId": "04938c38-696b-45f0-940d-41f354425cd1"
      },
      "execution_count": 8,
      "outputs": [
        {
          "output_type": "display_data",
          "data": {
            "text/plain": [
              "<Figure size 640x480 with 1 Axes>"
            ],
            "image/png": "[encoded data removed]"
          },
          "metadata": {}
        }
      ]
    },
    {
      "cell_type": "code",
      "source": [
        "smiles_combined = ''.join(data['smiles'])\n",
        "token_counts = Counter(smiles_combined)\n",
        "total_tokens = sum(token_counts.values())\n",
        "token_diversity = len(token_counts)\n",
        "print(\"Token Diversity:\", token_diversity)\n",
        "print(\"Token Occurrence Frequency:\")\n",
        "for token, count in token_counts.items():\n",
        "    frequency = count / total_tokens\n",
        "    print(f\"{token}: {frequency}\")"
      ],
      "metadata": {
        "colab": {
          "base_uri": "https://localhost:8080/"
        },
        "id": "EvIwp8_Ynh-2",
        "outputId": "dededddd-0f56-4c8a-b0fd-41549cb8eb80"
      },
      "execution_count": 9,
      "outputs": [
        {
          "output_type": "stream",
          "name": "stdout",
          "text": [
            "Token Diversity: 39\n",
            "Token Occurrence Frequency:\n",
            "[: 0.03296942817611493\n",
            "C: 0.28811053619150506\n",
            "l: 0.0058565986239836245\n",
            "]: 0.03296942817611493\n",
            ".: 0.0015447015788176872\n",
            "(: 0.09942002615568317\n",
            "): 0.09942002615568317\n",
            "N: 0.03747085915733212\n",
            "O: 0.058831333750307996\n",
            "c: 0.06573984571937605\n",
            "1: 0.039119804400977995\n",
            "2: 0.03193646822463562\n",
            "=: 0.07613578211178712\n",
            "3: 0.02419400693694206\n",
            "4: 0.013627490002084873\n",
            "F: 0.004823638672504312\n",
            "n: 0.004880498853319687\n",
            "o: 0.00046435814332556247\n",
            "@: 0.03974526638994712\n",
            "H: 0.022668258751729498\n",
            "S: 0.004833115369306875\n",
            "5: 0.004302420348363374\n",
            "\\: 0.0019237694509201873\n",
            "/: 0.0017437122116714997\n",
            "s: 0.0006823221697844999\n",
            "#: 0.0005022649305358125\n",
            "B: 0.00049278823373325\n",
            "r: 0.00048331153693068746\n",
            "I: 5.6860180815374996e-05\n",
            "+: 0.0011466803131100624\n",
            "-: 0.0011656337067151874\n",
            "6: 0.0011751104035177499\n",
            "7: 0.0005306950209434999\n",
            "8: 0.00026534751047174997\n",
            "9: 0.00015162714884099998\n",
            "a: 0.00020848732965637496\n",
            "P: 0.00010424366482818748\n",
            "%: 0.00022744072326149998\n",
            "0: 7.581357442049999e-05\n"
          ]
        }
      ]
    },
    {
      "cell_type": "code",
      "source": [
        "tokens = []\n",
        "unique_elements = set(smiles_combined)\n",
        "for i in unique_elements:\n",
        "    tokens.append(i)\n",
        "\n",
        "def one_hot_encode(x):\n",
        "    code = np.zeros((39,39))\n",
        "    if x == 'v':\n",
        "        out = code[0]\n",
        "    else:\n",
        "        for j in range(39):\n",
        "            code[j][j] = 1\n",
        "        index = tokens.index(x)\n",
        "        out = code[index]\n",
        "    return torch.from_numpy(out)\n"
      ],
      "metadata": {
        "id": "KiV0bWEDQSVl"
      },
      "execution_count": 10,
      "outputs": []
    },
    {
      "cell_type": "code",
      "source": [],
      "metadata": {
        "id": "Gj_49Ulz1j4A"
      },
      "execution_count": 10,
      "outputs": []
    },
    {
      "cell_type": "code",
      "source": [
        "dataset = torch.zeros(2050,400,39)\n",
        "\n",
        "data_list = []\n",
        "\n",
        "for j in range(2050):\n",
        "    data_list.append(data.iloc[:,3][j])\n",
        "\n",
        "for i in range(2050):\n",
        "    data_list[i] = data_list[i][:400].ljust(400, 'v')\n",
        "\n",
        "for z in range(2050):\n",
        "    for i in range(400):\n",
        "        dataset[z][i] = one_hot_encode(data_list[z][i])"
      ],
      "metadata": {
        "id": "qMr32lLP88BK"
      },
      "execution_count": 11,
      "outputs": []
    },
    {
      "cell_type": "code",
      "source": [
        "labels = torch.zeros(2050)\n",
        "for i in range(2050):\n",
        "    labels[i] = data.iloc[:,2][i]"
      ],
      "metadata": {
        "id": "CgfkPtsCf1HY"
      },
      "execution_count": 12,
      "outputs": []
    },
    {
      "cell_type": "markdown",
      "source": [],
      "metadata": {
        "id": "JkazUAo4B-PT"
      }
    },
    {
      "cell_type": "code",
      "source": [
        "dataset[0][1]"
      ],
      "metadata": {
        "colab": {
          "base_uri": "https://localhost:8080/"
        },
        "id": "pzycJLFHaH4d",
        "outputId": "fa4668a1-58cd-49c6-eacb-05a477f62729"
      },
      "execution_count": 13,
      "outputs": [
        {
          "output_type": "execute_result",
          "data": {
            "text/plain": [
              "tensor([0., 0., 0., 0., 0., 0., 0., 0., 0., 0., 0., 0., 0., 0., 1., 0., 0., 0.,\n",
              "        0., 0., 0., 0., 0., 0., 0., 0., 0., 0., 0., 0., 0., 0., 0., 0., 0., 0.,\n",
              "        0., 0., 0.])"
            ]
          },
          "metadata": {},
          "execution_count": 13
        }
      ]
    },
    {
      "cell_type": "code",
      "source": [
        "def training_data(model,num_epochs,train_loader,learn_rate):\n",
        "    Loss_train=[]\n",
        "    Loss_val=[]\n",
        "    model.train()\n",
        "    optimizer = optim.Adam(model.parameters(),lr=learn_rate)\n",
        "    criterion = nn.CrossEntropyLoss()\n",
        "    for epoch in range(num_epochs):\n",
        "        epoch_train_loss = 0.0\n",
        "        correct_pred = 0\n",
        "        total_samples = 0\n",
        "        for input, labels in train_loader:\n",
        "            optimizer.zero_grad()\n",
        "            output = model(input)\n",
        "            loss = criterion(output, labels)\n",
        "            loss.backward()\n",
        "            optimizer.step()\n",
        "            epoch_train_loss += loss.item()\n",
        "            total_samples += labels.size(0)\n",
        "            preds = torch.argmax (output, dim=1)\n",
        "            correct_pred += (preds == labels).sum().item()\n",
        "        epoch_train_accuracy =  100 * correct_pred / total_samples\n",
        "        Loss_val.append(epoch_train_accuracy)\n",
        "        Loss_train.append(epoch_train_loss)\n",
        "        print(f\"Epoch {epoch+1} - Train Loss: {epoch_train_loss:.4f}, Train Accuracy: {epoch_train_accuracy:.2f}%\")"
      ],
      "metadata": {
        "id": "42D-v9gpqY9l"
      },
      "execution_count": 14,
      "outputs": []
    },
    {
      "cell_type": "code",
      "source": [
        "def testing_data(model,test_loader):\n",
        "    total = 0\n",
        "    correct_predict = 0\n",
        "    model.eval()\n",
        "    for inputt, labelz in test_loader:\n",
        "        output = model(inputt)\n",
        "        total += labelz.size(0)\n",
        "        predict = torch.argmax (output, dim=1)\n",
        "        correct_predict += (predict == labelz).sum().item()\n",
        "    test_accuracy =  100 * correct_predict / total\n",
        "    print(f\"Test Accuracy: {test_accuracy}%\")"
      ],
      "metadata": {
        "id": "GSCZSchiqc_B"
      },
      "execution_count": 15,
      "outputs": []
    },
    {
      "cell_type": "code",
      "source": [],
      "metadata": {
        "id": "1PTj7psftxAU"
      },
      "execution_count": 15,
      "outputs": []
    },
    {
      "cell_type": "code",
      "source": [
        "class FC(nn.Module):\n",
        "  def __init__(self,in_size,hidden_size,out_size):\n",
        "    super(FC,self).__init__()\n",
        "    self.fc1 = nn.Linear(in_size, hidden_size)\n",
        "    self.relu = nn.ReLU()\n",
        "    self.fc2 = nn.Linear(hidden_size, hidden_size)\n",
        "    self.fc3 = nn.Linear(hidden_size, out_size)\n",
        "    self.dropout = nn.Dropout(p=0.4)\n",
        "    self.sigmoid = nn.Sigmoid()\n",
        "\n",
        "  def forward(self,x):\n",
        "    out = self.fc1(x)\n",
        "    out = self.relu(out)\n",
        "    out = self.dropout(out)\n",
        "    out = self.fc2(out)\n",
        "    out = self.relu(out)\n",
        "    out = self.dropout(out)\n",
        "    out = self.fc3(out)\n",
        "    out = self.sigmoid(out)\n",
        "    return out"
      ],
      "metadata": {
        "id": "S0gaG_NtcnTT"
      },
      "execution_count": 16,
      "outputs": []
    },
    {
      "cell_type": "code",
      "source": [
        "x_train, x_test,y_train,y_test = train_test_split(dataset, labels, test_size=0.1, random_state=42)\n",
        "x_train_flat = x_train.view(1845, -1)\n",
        "x_test_flat = x_test.view(2050-1845, -1)\n",
        "y_train = y_train.long()\n",
        "y_test = y_test.long()\n",
        "x_train_flat = x_train_flat.to(device)\n",
        "y_train = y_train.to(device)\n",
        "x_test_flat = x_test_flat.to(device)\n",
        "y_test = y_test.to(device)\n",
        "train_data = TensorDataset(x_train_flat, y_train)\n",
        "test_data = TensorDataset(x_test_flat, y_test)\n",
        "train_loader = DataLoader(train_data, batch_size=128, shuffle=True)\n",
        "test_loader = DataLoader(test_data, shuffle=False)\n"
      ],
      "metadata": {
        "id": "kWTnl0kofU7m"
      },
      "execution_count": 17,
      "outputs": []
    },
    {
      "cell_type": "code",
      "source": [],
      "metadata": {
        "id": "bLqRBztVVJ9J"
      },
      "execution_count": 17,
      "outputs": []
    },
    {
      "cell_type": "code",
      "source": [],
      "metadata": {
        "id": "C9Ylux-0WJoU"
      },
      "execution_count": 17,
      "outputs": []
    },
    {
      "cell_type": "code",
      "source": [],
      "metadata": {
        "id": "xk00WRU8RYME"
      },
      "execution_count": 17,
      "outputs": []
    },
    {
      "cell_type": "code",
      "source": [
        "model_FC = FC(400*39, 100, 2)\n",
        "model_FC = model_FC.to(device)\n",
        "training_data(model_FC,10,train_loader,0.001)\n"
      ],
      "metadata": {
        "id": "BSFKadtVgwCY",
        "colab": {
          "base_uri": "https://localhost:8080/"
        },
        "outputId": "fb6c979b-88b2-43c5-cbc9-e28886984c72"
      },
      "execution_count": 18,
      "outputs": [
        {
          "output_type": "stream",
          "name": "stdout",
          "text": [
            "Epoch 1 - Train Loss: 9.9130, Train Accuracy: 76.53%\n",
            "Epoch 2 - Train Loss: 8.3517, Train Accuracy: 77.51%\n",
            "Epoch 3 - Train Loss: 7.2219, Train Accuracy: 83.58%\n",
            "Epoch 4 - Train Loss: 6.4627, Train Accuracy: 89.21%\n",
            "Epoch 5 - Train Loss: 5.9782, Train Accuracy: 91.98%\n",
            "Epoch 6 - Train Loss: 5.7024, Train Accuracy: 93.60%\n",
            "Epoch 7 - Train Loss: 5.5480, Train Accuracy: 94.91%\n",
            "Epoch 8 - Train Loss: 5.3790, Train Accuracy: 95.83%\n",
            "Epoch 9 - Train Loss: 5.2744, Train Accuracy: 96.59%\n",
            "Epoch 10 - Train Loss: 5.2133, Train Accuracy: 96.80%\n"
          ]
        }
      ]
    },
    {
      "cell_type": "code",
      "source": [
        "testing_data(model_FC,test_loader)\n"
      ],
      "metadata": {
        "colab": {
          "base_uri": "https://localhost:8080/"
        },
        "id": "YBqTbQJjqkDE",
        "outputId": "896c96a3-a556-410b-ebe7-b449b4825a21"
      },
      "execution_count": 19,
      "outputs": [
        {
          "output_type": "stream",
          "name": "stdout",
          "text": [
            "Test Accuracy: 84.8780487804878%\n"
          ]
        }
      ]
    },
    {
      "cell_type": "code",
      "source": [],
      "metadata": {
        "id": "ntif48UJQcKG"
      },
      "execution_count": 19,
      "outputs": []
    },
    {
      "cell_type": "code",
      "source": [
        "torch.save(model_FC.state_dict(), \"model_fc.pth\")"
      ],
      "metadata": {
        "id": "oOLnLei03EC3"
      },
      "execution_count": 20,
      "outputs": []
    },
    {
      "cell_type": "code",
      "source": [
        "class LSTM(nn.Module):\n",
        "    def __init__(self, input_size, hidden_size, out_size):\n",
        "        super(LSTM, self).__init__()\n",
        "        self.lstm = nn.LSTM(input_size, hidden_size, batch_first=True)\n",
        "        self.fc1 = nn.Linear(hidden_size, hidden_size)\n",
        "        self.fc2 = nn.Linear(hidden_size, hidden_size)\n",
        "        self.relu = nn.ReLU()\n",
        "        self.fc2 = nn.Linear(hidden_size, hidden_size)\n",
        "        self.fc3 = nn.Linear(hidden_size, out_size)\n",
        "        self.dropout = nn.Dropout(p=0.4)\n",
        "        self.sigmoid = nn.Sigmoid()\n",
        "\n",
        "    def forward(self, x):\n",
        "        out, (h_n, c_n) = self.lstm(x)\n",
        "        out = self.fc1(out)\n",
        "        out = self.relu(out)\n",
        "        out = self.dropout(out)\n",
        "        out = self.fc2(out)\n",
        "        out = self.relu(out)\n",
        "        out = self.dropout(out)\n",
        "        out = self.fc3(out)\n",
        "        out = self.sigmoid(out)\n",
        "        return out"
      ],
      "metadata": {
        "id": "Dj5ovfdB4MTk"
      },
      "execution_count": 21,
      "outputs": []
    },
    {
      "cell_type": "code",
      "source": [
        "model_lstm = LSTM(400*39, 100, 2)\n",
        "model_lstm = model_lstm.to(device)\n",
        "training_data(model_lstm,20,train_loader,0.001)"
      ],
      "metadata": {
        "colab": {
          "base_uri": "https://localhost:8080/"
        },
        "id": "0Q3grxUPLmec",
        "outputId": "a2712a9a-8b78-4188-bbe1-1b9a01d4107d"
      },
      "execution_count": 23,
      "outputs": [
        {
          "output_type": "stream",
          "name": "stdout",
          "text": [
            "Epoch 1 - Train Loss: 9.6491, Train Accuracy: 76.42%\n",
            "Epoch 2 - Train Loss: 8.2448, Train Accuracy: 76.42%\n",
            "Epoch 3 - Train Loss: 8.2745, Train Accuracy: 76.42%\n",
            "Epoch 4 - Train Loss: 8.2365, Train Accuracy: 76.42%\n",
            "Epoch 5 - Train Loss: 8.2741, Train Accuracy: 76.42%\n",
            "Epoch 6 - Train Loss: 8.2491, Train Accuracy: 76.42%\n",
            "Epoch 7 - Train Loss: 8.1833, Train Accuracy: 76.42%\n",
            "Epoch 8 - Train Loss: 7.9448, Train Accuracy: 76.42%\n",
            "Epoch 9 - Train Loss: 7.3711, Train Accuracy: 77.78%\n",
            "Epoch 10 - Train Loss: 6.7163, Train Accuracy: 88.56%\n",
            "Epoch 11 - Train Loss: 6.0029, Train Accuracy: 91.82%\n",
            "Epoch 12 - Train Loss: 5.6235, Train Accuracy: 94.15%\n",
            "Epoch 13 - Train Loss: 5.4641, Train Accuracy: 94.91%\n",
            "Epoch 14 - Train Loss: 5.3512, Train Accuracy: 95.50%\n",
            "Epoch 15 - Train Loss: 5.2936, Train Accuracy: 96.15%\n",
            "Epoch 16 - Train Loss: 5.1782, Train Accuracy: 96.80%\n",
            "Epoch 17 - Train Loss: 5.1534, Train Accuracy: 97.02%\n",
            "Epoch 18 - Train Loss: 5.1080, Train Accuracy: 97.45%\n",
            "Epoch 19 - Train Loss: 5.0217, Train Accuracy: 97.99%\n",
            "Epoch 20 - Train Loss: 5.0257, Train Accuracy: 97.89%\n"
          ]
        }
      ]
    },
    {
      "cell_type": "code",
      "source": [
        "testing_data(model_lstm,test_loader)"
      ],
      "metadata": {
        "colab": {
          "base_uri": "https://localhost:8080/"
        },
        "id": "uXR0m8IzMab9",
        "outputId": "939351ba-470c-4192-a5c4-a84e214fc4cd"
      },
      "execution_count": 24,
      "outputs": [
        {
          "output_type": "stream",
          "name": "stdout",
          "text": [
            "Test Accuracy: 82.4390243902439%\n"
          ]
        }
      ]
    },
    {
      "cell_type": "code",
      "source": [
        "torch.save(model_lstm.state_dict(), \"model_lstm.pth\")"
      ],
      "metadata": {
        "id": "uxAspRURoQ3R"
      },
      "execution_count": 25,
      "outputs": []
    },
    {
      "cell_type": "code",
      "source": [
        "class BiLSTM(nn.Module):\n",
        "    def __init__(self, input_size, hidden_size, out_size):\n",
        "        super(BiLSTM, self).__init__()\n",
        "        self.bilstm = nn.LSTM(input_size, hidden_size, batch_first=True,bidirectional=True)\n",
        "        self.fc1 = nn.Linear(hidden_size*2, hidden_size)\n",
        "        self.fc2 = nn.Linear(hidden_size, hidden_size)\n",
        "        self.relu = nn.ReLU()\n",
        "        self.fc2 = nn.Linear(hidden_size, hidden_size)\n",
        "        self.fc3 = nn.Linear(hidden_size, out_size)\n",
        "        self.dropout = nn.Dropout(p=0.4)\n",
        "        self.sigmoid = nn.Sigmoid()\n",
        "\n",
        "    def forward(self, x):\n",
        "        out, (h_n, c_n) = self.bilstm(x)\n",
        "        out = self.fc1(out)\n",
        "        out = self.relu(out)\n",
        "        out = self.dropout(out)\n",
        "        out = self.fc2(out)\n",
        "        out = self.relu(out)\n",
        "        out = self.dropout(out)\n",
        "        out = self.fc3(out)\n",
        "        out = self.sigmoid(out)\n",
        "        return out"
      ],
      "metadata": {
        "id": "kICB7Zn7hcJy"
      },
      "execution_count": 26,
      "outputs": []
    },
    {
      "cell_type": "code",
      "source": [
        "model_bilstm = BiLSTM(400*39, 100, 2)\n",
        "model_bilstm = model_bilstm.to(device)\n",
        "training_data(model_bilstm,20,train_loader,0.001)"
      ],
      "metadata": {
        "colab": {
          "base_uri": "https://localhost:8080/"
        },
        "id": "KKTAaqZ3irsr",
        "outputId": "9cd8d7af-521a-4c07-bd64-4ad0cf1eace6"
      },
      "execution_count": 27,
      "outputs": [
        {
          "output_type": "stream",
          "name": "stdout",
          "text": [
            "Epoch 1 - Train Loss: 9.6064, Train Accuracy: 74.58%\n",
            "Epoch 2 - Train Loss: 8.2301, Train Accuracy: 76.42%\n",
            "Epoch 3 - Train Loss: 8.2294, Train Accuracy: 76.42%\n",
            "Epoch 4 - Train Loss: 8.1634, Train Accuracy: 76.42%\n",
            "Epoch 5 - Train Loss: 8.2407, Train Accuracy: 76.42%\n",
            "Epoch 6 - Train Loss: 8.2169, Train Accuracy: 76.42%\n",
            "Epoch 7 - Train Loss: 8.1879, Train Accuracy: 76.42%\n",
            "Epoch 8 - Train Loss: 8.2073, Train Accuracy: 76.42%\n",
            "Epoch 9 - Train Loss: 8.3537, Train Accuracy: 76.42%\n",
            "Epoch 10 - Train Loss: 8.0773, Train Accuracy: 76.69%\n",
            "Epoch 11 - Train Loss: 7.3199, Train Accuracy: 82.93%\n",
            "Epoch 12 - Train Loss: 6.2881, Train Accuracy: 89.65%\n",
            "Epoch 13 - Train Loss: 5.8922, Train Accuracy: 91.92%\n",
            "Epoch 14 - Train Loss: 5.6756, Train Accuracy: 92.90%\n",
            "Epoch 15 - Train Loss: 5.4426, Train Accuracy: 94.96%\n",
            "Epoch 16 - Train Loss: 5.2973, Train Accuracy: 96.10%\n",
            "Epoch 17 - Train Loss: 5.1902, Train Accuracy: 96.96%\n",
            "Epoch 18 - Train Loss: 5.1332, Train Accuracy: 97.18%\n",
            "Epoch 19 - Train Loss: 5.1068, Train Accuracy: 97.29%\n",
            "Epoch 20 - Train Loss: 5.0431, Train Accuracy: 97.78%\n"
          ]
        }
      ]
    },
    {
      "cell_type": "code",
      "source": [
        "testing_data(model_bilstm,test_loader)"
      ],
      "metadata": {
        "colab": {
          "base_uri": "https://localhost:8080/"
        },
        "id": "MLG3euSbiwlI",
        "outputId": "45e3fa6e-c5a1-4887-f166-746d92973900"
      },
      "execution_count": 28,
      "outputs": [
        {
          "output_type": "stream",
          "name": "stdout",
          "text": [
            "Test Accuracy: 84.8780487804878%\n"
          ]
        }
      ]
    },
    {
      "cell_type": "code",
      "source": [
        "torch.save(model_bilstm.state_dict(), \"model_bilstm.pth\")"
      ],
      "metadata": {
        "id": "IWT5qGgGtk1-"
      },
      "execution_count": 29,
      "outputs": []
    },
    {
      "cell_type": "code",
      "source": [
        "def train_cross(model,num_epochs,train_loader,learn_rate):\n",
        "    Loss_train=[]\n",
        "    Loss_val=[]\n",
        "    model.train()\n",
        "    optimizer = optim.Adam(model.parameters(),lr=learn_rate)\n",
        "    criterion = nn.CrossEntropyLoss()\n",
        "    for epoch in range(num_epochs):\n",
        "        epoch_train_loss = 0.0\n",
        "        correct_pred = 0\n",
        "        total_samples = 0\n",
        "        for input, labels in train_loader:\n",
        "            optimizer.zero_grad()\n",
        "            output = model(input)\n",
        "            loss = criterion(output, labels)\n",
        "            loss.backward()\n",
        "            optimizer.step()\n",
        "            epoch_train_loss += loss.item()\n",
        "            total_samples += labels.size(0)\n",
        "            preds = torch.argmax (output, dim=1)\n",
        "            correct_pred += (preds == labels).sum().item()\n",
        "        epoch_train_accuracy =  100 * correct_pred / total_samples\n",
        "    return epoch_train_accuracy"
      ],
      "metadata": {
        "id": "PUKZLHo81TAt"
      },
      "execution_count": 30,
      "outputs": []
    },
    {
      "cell_type": "code",
      "source": [
        "def testing_cross(model,test_loader):\n",
        "    total = 0\n",
        "    correct_predict = 0\n",
        "    model.eval()\n",
        "    for inputt, labelz in test_loader:\n",
        "        output = model(inputt)\n",
        "        total += labelz.size(0)\n",
        "        predict = torch.argmax (output, dim=1)\n",
        "        correct_predict += (predict == labelz).sum().item()\n",
        "    test_accuracy =  100 * correct_predict / total\n",
        "    return test_accuracy"
      ],
      "metadata": {
        "id": "X0-Tu33y1ZaS"
      },
      "execution_count": 31,
      "outputs": []
    },
    {
      "cell_type": "code",
      "source": [
        "k = 10\n",
        "kf = KFold(n_splits=k)\n",
        "accuracy_scores_train_bilstm = []\n",
        "accuracy_scores_valid_bilstm = []\n",
        "accuracy_scores_train_lstm = []\n",
        "accuracy_scores_valid_lstm = []\n",
        "for train_index, val_index in kf.split(dataset):\n",
        "    train_data, val_data = dataset[train_index], dataset[val_index]\n",
        "    y_train, y_test = labels[train_index], labels[val_index]\n",
        "    train_data_flat = train_data.view(train_data.size()[0], -1)\n",
        "    train_data_flat = train_data_flat.to(device)\n",
        "    val_data_flat = val_data.view(val_data.size()[0], -1)\n",
        "    val_data_flat = val_data_flat.to(device)\n",
        "    y_train = y_train.long()\n",
        "    y_train = y_train.to(device)\n",
        "    y_test = y_test.long()\n",
        "    y_test = y_test.to(device)\n",
        "    train_data = TensorDataset(train_data_flat, y_train)\n",
        "    val_data = TensorDataset(val_data_flat, y_test)\n",
        "    train_loader = DataLoader(train_data, batch_size=128, shuffle=True)\n",
        "    test_loader = DataLoader(val_data, shuffle=False)\n",
        "    model_bilstm_cross = BiLSTM(400*39, 100, 2)\n",
        "    model_bilstm_cross = model_bilstm_cross.to(device)\n",
        "    accuracy_train_bilstm = train_cross(model_bilstm_cross,25,train_loader,0.001)\n",
        "    accuracy_valid_bilstm = testing_cross(model_bilstm_cross,test_loader)\n",
        "    accuracy_scores_train_bilstm.append(accuracy_train_bilstm)\n",
        "    accuracy_scores_valid_bilstm.append(accuracy_valid_bilstm)\n",
        "\n",
        "    model_lstm_cross = LSTM(400*39, 100, 2)\n",
        "    model_lstm_cross = model_lstm_cross.to(device)\n",
        "    accuracy_train_lstm = train_cross(model_lstm_cross,25,train_loader,0.001)\n",
        "    accuracy_valid_lstm = testing_cross(model_lstm_cross,test_loader)\n",
        "    accuracy_scores_train_lstm.append(accuracy_train_lstm)\n",
        "    accuracy_scores_valid_lstm.append(accuracy_valid_lstm)\n",
        "avg_accuracy_train_bilstm = sum(accuracy_scores_train_bilstm) / k\n",
        "avg_accuracy_valid_bilstm = sum(accuracy_scores_valid_bilstm) / k\n",
        "avg_accuracy_train_lstm = sum(accuracy_scores_train_lstm) / k\n",
        "avg_accuracy_valid_lstm = sum(accuracy_scores_valid_lstm) / k\n",
        "\n",
        "print(f\"Average Accuracy of BiLSTM Training: {avg_accuracy_train_bilstm}\")\n",
        "print(f\"Average Accuracy of BiLSTM Validation: {avg_accuracy_valid_bilstm}\")\n",
        "print(f\"Average Accuracy of LSTM Training: {avg_accuracy_train_lstm}\")\n",
        "print(f\"Average Accuracy of LSTM Validation: {avg_accuracy_valid_lstm}\")\n",
        "\n",
        "\n"
      ],
      "metadata": {
        "colab": {
          "base_uri": "https://localhost:8080/"
        },
        "id": "cAmTYcgClPLN",
        "outputId": "e415f83c-fca8-4859-968f-5ef0e3a95146"
      },
      "execution_count": 33,
      "outputs": [
        {
          "output_type": "stream",
          "name": "stdout",
          "text": [
            "Average Accuracy of BiLSTM Training: 94.67750677506774\n",
            "Average Accuracy of BiLSTM Validation: 77.02439024390245\n",
            "Average Accuracy of LSTM Training: 96.20054200542005\n",
            "Average Accuracy of LSTM Validation: 79.46341463414635\n"
          ]
        }
      ]
    }
  ]
}